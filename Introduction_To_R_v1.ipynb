{
 "cells": [
  {
   "cell_type": "markdown",
   "id": "c26c5a8a",
   "metadata": {},
   "source": [
    "# R for Beginners - Introduction to R\n",
    "R ist eine funktionale Programmiersprache mit Fokus auf mathematische und statistische Operationen. Dabei versucht R möglichst intuitiv für den Nutzer zu sein.\n",
    "\n",
    "Im Ersten Teil der Introduction beschäftigen wir uns mit den R Basics:\n",
    "* Zuweisung von Variablen\n",
    "* Vektoren\n",
    "* Basic Operations\n",
    "* Data Frames\n",
    "\n",
    "Um dieses Notebook auszuführen wähle die jeweilige \"Line of Code\" und drücke **CTRL+ENTER**. Mit **SHIFT+ENTER** führst du eine Zeile aus und springst automatisch zur nächsten "
   ]
  },
  {
   "cell_type": "markdown",
   "id": "8e6ee104",
   "metadata": {},
   "source": [
    "### Zuweisung von Variablen\n",
    "Im Grunde genommen funktioniert die Basis von R wie ein Taschenrechner. Wir können Berechnungen durchführen und die Ergebnisse Variablen zuweisen. Mit diesen Variablen können wir weitere Berechnungen durchführen:\n",
    "\n",
    "Grundsätzlich sind sowohl \"=\" als auch \"<-\" möglich für die Zuweisung von Variablen möglich. Worin genau sich die beiden Operatoren unterscheiden kannst du hier nachlesen: \n",
    "#https://stackoverflow.com/questions/1741820/what-are-the-differences-between-and-assignment-operators"
   ]
  },
  {
   "cell_type": "code",
   "execution_count": null,
   "id": "296c0fc5",
   "metadata": {},
   "outputs": [],
   "source": [
    "#Einfache Taschenrechnerfunktion\n",
    "1+1"
   ]
  },
  {
   "cell_type": "code",
   "execution_count": null,
   "id": "f8fe408f",
   "metadata": {},
   "outputs": [],
   "source": [
    "#Zuweisung von Variablen. \n",
    "a <- 1\n",
    "b = 3\n",
    "c <- a+b\n",
    "print(c)"
   ]
  },
  {
   "cell_type": "markdown",
   "id": "d633f1c5",
   "metadata": {},
   "source": [
    "* Addition +\n",
    "* Subtraktion -\n",
    "* Multiplikation *\n",
    "* Division /\n",
    "* Modulo %%\n",
    "* Potenz ^"
   ]
  },
  {
   "cell_type": "code",
   "execution_count": null,
   "id": "7be4fd11",
   "metadata": {},
   "outputs": [],
   "source": [
    "#Logische Variablen\n",
    "richtig <- TRUE\n",
    "falsch <- FALSE"
   ]
  },
  {
   "cell_type": "code",
   "execution_count": null,
   "id": "afd17431",
   "metadata": {},
   "outputs": [],
   "source": [
    "#Relationale Operatoren\n",
    "richtig==falsch\n",
    "3 <= c"
   ]
  },
  {
   "cell_type": "markdown",
   "id": "ee69437e",
   "metadata": {},
   "source": [
    "* Größer als > (bzw kleiner als <)\n",
    "* Größer gleich >= (bzw kleiner gleich <=)\n",
    "* Gleichheit ==\n",
    "* Ungleichheit !="
   ]
  },
  {
   "cell_type": "code",
   "execution_count": null,
   "id": "6f8b6b27",
   "metadata": {},
   "outputs": [],
   "source": [
    "#Auch Strings können assigned werden.\n",
    "hi <- \"Hello World\"\n",
    "hi <- \"Hello'World\"\n",
    "hi <- 'Hello World'"
   ]
  },
  {
   "cell_type": "code",
   "execution_count": null,
   "id": "32e35b42",
   "metadata": {},
   "outputs": [],
   "source": [
    "\"Hello\" World\""
   ]
  },
  {
   "cell_type": "code",
   "execution_count": null,
   "id": "1a465709",
   "metadata": {},
   "outputs": [],
   "source": [
    "\"Hello\\\"World\""
   ]
  },
  {
   "cell_type": "code",
   "execution_count": null,
   "id": "6bd2b160",
   "metadata": {
    "scrolled": true
   },
   "outputs": [],
   "source": [
    "#Ein Print wird nicht zwingend für die Ausgabe benötigt:\n",
    "print(hi)\n",
    "hi"
   ]
  },
  {
   "cell_type": "code",
   "execution_count": null,
   "id": "6a890347",
   "metadata": {},
   "outputs": [],
   "source": [
    "person <- \"weiblich\"\n",
    "as.factor(\"weiblich\")"
   ]
  },
  {
   "cell_type": "markdown",
   "id": "70dec8c8",
   "metadata": {},
   "source": [
    "### Grundlegende mathematische Funktionen\n",
    "Die folgenden Operationen können sowohl mit einzelnen Werten als auch mit Vektoren durchgeführt werden:\n",
    "* abs()\n",
    "* round()\n",
    "* Sinus sin() und Cosinus() sowie pi\n",
    "* Logarithmus + Exponentialfunktionen"
   ]
  },
  {
   "cell_type": "code",
   "execution_count": null,
   "id": "3e70816f",
   "metadata": {},
   "outputs": [],
   "source": [
    "abs(-1)"
   ]
  },
  {
   "cell_type": "code",
   "execution_count": null,
   "id": "06570435",
   "metadata": {},
   "outputs": [],
   "source": [
    "#Informationen zu den Funktionen (help)\n",
    "?abs\n",
    "#help(abs)"
   ]
  },
  {
   "cell_type": "code",
   "execution_count": null,
   "id": "f623c58a",
   "metadata": {},
   "outputs": [],
   "source": [
    "xx <- -9:9\n",
    "plot(xx, sqrt(abs(xx)),  col = \"red\")"
   ]
  },
  {
   "cell_type": "code",
   "execution_count": null,
   "id": "cca7fe22",
   "metadata": {
    "scrolled": true
   },
   "outputs": [],
   "source": [
    "print(sin(3.14))\n",
    "print(cos(pi))"
   ]
  },
  {
   "cell_type": "code",
   "execution_count": null,
   "id": "005cc231",
   "metadata": {},
   "outputs": [],
   "source": [
    "exp(1) # Eulers Zahl"
   ]
  },
  {
   "cell_type": "code",
   "execution_count": null,
   "id": "34538b06",
   "metadata": {},
   "outputs": [],
   "source": [
    "print(log(8)) #Logarithums, default base = Eulers Zahl\n",
    "print(log(8,base=2)) #Logarithmus, custom base"
   ]
  },
  {
   "cell_type": "markdown",
   "id": "0e51a7dd",
   "metadata": {},
   "source": [
    "### Vektoren\n",
    "Vektor sind das Herzstück der Datenverarbeitung mit R. Mit Vektoren können einer einzigen Variable eine Vielzahl an Werten bzw. Parametern übergeben werden. Für die Zuweisung nutzen wir die Funktion c() - sie kombiniert (combine) Werte zu einem Vektor. \n",
    "\n",
    "Vektoren können immer nur Daten eines einzigen Datentyps aufnehmen. Falls mehrere Datentypen vorkommen so wird der höchstwertige genommen."
   ]
  },
  {
   "cell_type": "code",
   "execution_count": null,
   "id": "f45cfe6e",
   "metadata": {},
   "outputs": [],
   "source": [
    "a <- c(1,2,3) #Variable a kann ohne Probleme neu zugewiesen werden\n",
    "print(a)"
   ]
  },
  {
   "cell_type": "code",
   "execution_count": null,
   "id": "d7417af2",
   "metadata": {},
   "outputs": [],
   "source": [
    "b <- c(FALSE, 1)\n",
    "b"
   ]
  },
  {
   "cell_type": "code",
   "execution_count": null,
   "id": "9ce073b5",
   "metadata": {},
   "outputs": [],
   "source": [
    "a <- c(FALSE, 1, \"Hello World\")\n",
    "print(a)"
   ]
  },
  {
   "cell_type": "code",
   "execution_count": null,
   "id": "f392d41a",
   "metadata": {},
   "outputs": [],
   "source": [
    "vec0 <- c(TRUE,FALSE,TRUE,TRUE,FALSE,TRUE)\n",
    "vec0"
   ]
  },
  {
   "cell_type": "code",
   "execution_count": null,
   "id": "02c59ecc",
   "metadata": {},
   "outputs": [],
   "source": [
    "vec1 <- 1:6 #Vereinfachte Möglichkeit eine Reihenfolge natürlicher Daten darzustellen\n",
    "vec2 <- seq(from=30,to=80,by=10) #Sequenz für Reihenfolge von reellen Zahlen\n",
    "vec3 <- seq(from=0.1,to=1,by=0.1)\n",
    "\n",
    "print(vec1)\n",
    "print(vec2)\n",
    "print(vec3)"
   ]
  },
  {
   "cell_type": "code",
   "execution_count": null,
   "id": "f868b898",
   "metadata": {},
   "outputs": [],
   "source": [
    "long_vector <- c(vec1,vec2,vec3)\n",
    "print(long_vector)"
   ]
  },
  {
   "cell_type": "code",
   "execution_count": null,
   "id": "8a58b63f",
   "metadata": {},
   "outputs": [],
   "source": [
    "#Indexbasierte Abfrage\n",
    "long_vector[13]"
   ]
  },
  {
   "cell_type": "code",
   "execution_count": null,
   "id": "6522d300",
   "metadata": {},
   "outputs": [],
   "source": [
    "vec4 <- as.factor(c(\"männlich\",\"weiblich\",\"weiblich\",\"männlich\",\"männlich\",\"weiblich\"))\n",
    "vec4"
   ]
  },
  {
   "cell_type": "markdown",
   "id": "0dfd44b2",
   "metadata": {},
   "source": [
    "### Listen\n",
    "Im Unterschied zu Vektoren können Listen verschiedene Datentypen aufweisen. Es ist sogar möglich Listen zu verschachteln und Listen in Listen zu erstellen"
   ]
  },
  {
   "cell_type": "code",
   "execution_count": null,
   "id": "1b471a94",
   "metadata": {},
   "outputs": [],
   "source": [
    "my_list1 <- list(\"Produkt1\",\"Produkt2\",\"Produkt4\")\n",
    "my_list1"
   ]
  },
  {
   "cell_type": "code",
   "execution_count": null,
   "id": "84b5a028",
   "metadata": {},
   "outputs": [],
   "source": [
    "my_list2 <- list(\"Maria\", \"Musterfrau\", 1980,\"weibich\", TRUE)"
   ]
  },
  {
   "cell_type": "code",
   "execution_count": null,
   "id": "ad9d9fed",
   "metadata": {
    "scrolled": true
   },
   "outputs": [],
   "source": [
    "my_list3 <- list(\"Maria\", \"Musterfrau\", 1980, \"weiblich\", TRUE, my_list1)\n",
    "my_list3"
   ]
  },
  {
   "cell_type": "code",
   "execution_count": null,
   "id": "affdc56c",
   "metadata": {},
   "outputs": [],
   "source": [
    "my_list3[1]\n",
    "my_list3[[1]]"
   ]
  },
  {
   "cell_type": "code",
   "execution_count": null,
   "id": "2aeaa1bb",
   "metadata": {},
   "outputs": [],
   "source": [
    "my_list4 <- list(\n",
    "    Name = \"Markus\",\n",
    "    Nachname = \"Sieder\",\n",
    "    Jahr = 1997, \n",
    "    Geschecht = \"männlich\", \n",
    "    Kunde = TRUE, \n",
    "    Produkte = list(\"Produkt1\",\"Produkt3\"))\n"
   ]
  },
  {
   "cell_type": "code",
   "execution_count": null,
   "id": "d3207389",
   "metadata": {},
   "outputs": [],
   "source": [
    "my_list4$Nachname\n",
    "my_list4$Produkte"
   ]
  },
  {
   "cell_type": "code",
   "execution_count": null,
   "id": "b38ba54a",
   "metadata": {},
   "outputs": [],
   "source": [
    "final_list <- list(Kunde1 = my_list3,Kunde2 = my_list4)"
   ]
  },
  {
   "cell_type": "markdown",
   "id": "fdd388aa",
   "metadata": {},
   "source": [
    "### Matrizen\n",
    "Matrizen sind zweidimensioale Objekte in denen Daten des **selben** Datentyps gespeichert werden. Die Datenpunkte sind in rechteckiger Form (n x m) angeordnet. Auch wenn man theoretisch logische oder character Datentypen verwenden kann ist das Hauptziel von Matrizen das speichern und rechnen mit numerischen Werten\n",
    "\n"
   ]
  },
  {
   "cell_type": "code",
   "execution_count": null,
   "id": "62197da8",
   "metadata": {},
   "outputs": [],
   "source": [
    "M <- matrix(c(3:14), nrow = 4, byrow = FALSE)\n",
    "print(M)"
   ]
  },
  {
   "cell_type": "code",
   "execution_count": null,
   "id": "f9380fa1",
   "metadata": {},
   "outputs": [],
   "source": [
    "rownames <- c(\"Kunde1\", \"Kunde2\", \"Kunde3\", \"Kunde4\")\n",
    "colnames <- c(\"Produkt1\", \"Produkt2\", \"Produkt3\")"
   ]
  },
  {
   "cell_type": "code",
   "execution_count": null,
   "id": "c2b7a94d",
   "metadata": {
    "scrolled": true
   },
   "outputs": [],
   "source": [
    "Produkte <- matrix(c(3:14), nrow = 4, byrow = FALSE, dimnames = list(rownames, colnames))\n",
    "print(Produkte)"
   ]
  },
  {
   "cell_type": "markdown",
   "id": "7f1fb277",
   "metadata": {},
   "source": [
    "##### Subselektionen\n",
    "Über den **Spalten- und Zeilenindex** können einzelne Elemente gezielt abgefragt werden\n",
    "\n",
    "* Wie oft hat Kunde 1 das Produkt 3 gekauft?\n",
    "* Wie viele Einheiten von Produkt 1 and die jeweiligen Kunden verkauft?\n",
    "* Welche und wie viele Einheiten von Produkten hat Kunde 3 gekauft"
   ]
  },
  {
   "cell_type": "code",
   "execution_count": null,
   "id": "96c24733",
   "metadata": {},
   "outputs": [],
   "source": [
    "Produkte[1,3] #Zuerst der Reihenindex, danach der Spaltenindex"
   ]
  },
  {
   "cell_type": "code",
   "execution_count": null,
   "id": "98459378",
   "metadata": {
    "scrolled": true
   },
   "outputs": [],
   "source": [
    "Produkt1 <- Produkte[,1,drop=FALSE]\n",
    "print(Produkt1)"
   ]
  },
  {
   "cell_type": "code",
   "execution_count": null,
   "id": "123b6611",
   "metadata": {
    "scrolled": true
   },
   "outputs": [],
   "source": [
    "Kunde3 <- Produkte[3, ,drop=FALSE]\n",
    "Kunde3"
   ]
  },
  {
   "cell_type": "markdown",
   "id": "df130a33",
   "metadata": {},
   "source": [
    "##### Frage:\n",
    "Abfragen über einen numerischen Index sind etwas unintuitiv. Kann es dafür eine andere Lösung geben?"
   ]
  },
  {
   "cell_type": "code",
   "execution_count": null,
   "id": "bc45b87b",
   "metadata": {},
   "outputs": [],
   "source": [
    "Kunde3 <- Produkte[, ,drop=FALSE] #Tipp: wenn wir rownames setzen, können wir diese auch als index nutzen\n",
    "Kunde3"
   ]
  },
  {
   "cell_type": "markdown",
   "id": "116658bb",
   "metadata": {},
   "source": [
    "### Dataframes\n",
    "Data Frames organisieren Daten in einer zweidimensionalen Struktur von Rows und Columns. (-> Ähnlichkeiten zu Spreadsheets). R intern werden sie als als eine Liste interpretiert, in der jeder Eintrag ein Vektor der selben Länge ist. In jedem Vektor (Spalte) müssen die Daten dem selben Typen entsprechen. Jede Spalte/Vektor kann jedoch einen anderen Datentyp besitzen\n",
    "\n",
    "Sie sind die häufigste Datenstruktur für moderne Data Analytics, vor Allem, weil sie besonders flexibel und intuitiv sind."
   ]
  },
  {
   "cell_type": "code",
   "execution_count": null,
   "id": "2c43ed32",
   "metadata": {},
   "outputs": [],
   "source": [
    "df2 <- data.frame(Produkte)\n",
    "df2"
   ]
  },
  {
   "cell_type": "code",
   "execution_count": null,
   "id": "375463b7",
   "metadata": {},
   "outputs": [],
   "source": [
    "df <- data.frame(vec1,vec2,vec3)"
   ]
  },
  {
   "cell_type": "code",
   "execution_count": null,
   "id": "5896ff97",
   "metadata": {},
   "outputs": [],
   "source": [
    "df1 <- data.frame(vec1,vec2,vec0)\n",
    "df1"
   ]
  },
  {
   "cell_type": "code",
   "execution_count": null,
   "id": "eae21c7a",
   "metadata": {},
   "outputs": [],
   "source": [
    "df <- data.frame(ID=vec1,Alter=vec2,Kunde=vec0,Geschlecht=vec4)\n",
    "df"
   ]
  },
  {
   "cell_type": "markdown",
   "id": "0ce8af88",
   "metadata": {},
   "source": [
    "### Indexing\n",
    "Zuriff auf gespeicherte Daten"
   ]
  },
  {
   "cell_type": "code",
   "execution_count": null,
   "id": "5add3112",
   "metadata": {},
   "outputs": [],
   "source": [
    "vec1\n",
    "vec1[0] #Startet mit 1\n",
    "vec1[1] #Zugriff auf Datenpunkt\n",
    "vec1[-6] #Löschen eines Datenpunktes"
   ]
  },
  {
   "cell_type": "code",
   "execution_count": null,
   "id": "c8ca11ae",
   "metadata": {},
   "outputs": [],
   "source": [
    "my_list <- my_list4\n",
    "my_list"
   ]
  },
  {
   "cell_type": "code",
   "execution_count": null,
   "id": "7a412b91",
   "metadata": {},
   "outputs": [],
   "source": [
    "my_list[1]\n",
    "my_list[[1]]\n",
    "my_list$Name"
   ]
  },
  {
   "cell_type": "code",
   "execution_count": null,
   "id": "13a4f24c",
   "metadata": {},
   "outputs": [],
   "source": [
    "my_list[6]\n",
    "my_list[6][1]\n",
    "my_list[[6]][1]\n",
    "my_list$Produkte[1]"
   ]
  },
  {
   "cell_type": "code",
   "execution_count": null,
   "id": "1fd7c531",
   "metadata": {},
   "outputs": [],
   "source": [
    "df"
   ]
  },
  {
   "cell_type": "code",
   "execution_count": null,
   "id": "5fb96d3c",
   "metadata": {},
   "outputs": [],
   "source": [
    "df$Alter\n",
    "df[,2]"
   ]
  },
  {
   "cell_type": "code",
   "execution_count": null,
   "id": "b8da1c0d",
   "metadata": {
    "scrolled": true
   },
   "outputs": [],
   "source": [
    "df[,-1]\n",
    "df[,2:4]"
   ]
  },
  {
   "cell_type": "code",
   "execution_count": null,
   "id": "85ff2f80",
   "metadata": {},
   "outputs": [],
   "source": [
    "df[1,]\n",
    "df[-1,]"
   ]
  },
  {
   "cell_type": "code",
   "execution_count": null,
   "id": "991f49bf",
   "metadata": {},
   "outputs": [],
   "source": [
    "df$Geschlecht == 'männlich'"
   ]
  },
  {
   "cell_type": "code",
   "execution_count": null,
   "id": "4608d6d2",
   "metadata": {},
   "outputs": [],
   "source": [
    "df[df$Geschlecht == 'männlich',]"
   ]
  },
  {
   "cell_type": "code",
   "execution_count": null,
   "id": "6c326d46",
   "metadata": {},
   "outputs": [],
   "source": [
    "df[df$Kunde,]"
   ]
  },
  {
   "cell_type": "code",
   "execution_count": null,
   "id": "de639c9f",
   "metadata": {},
   "outputs": [],
   "source": [
    "median(df$Alter)\n",
    "df[df$Alter>55,]"
   ]
  },
  {
   "cell_type": "markdown",
   "id": "5732032f",
   "metadata": {},
   "source": [
    "### Speichern und Einlesen von Daten"
   ]
  },
  {
   "cell_type": "code",
   "execution_count": null,
   "id": "c50e87c3",
   "metadata": {},
   "outputs": [],
   "source": [
    "write.csv(df,\"./Mein_DataFrame\")"
   ]
  },
  {
   "cell_type": "code",
   "execution_count": null,
   "id": "2b0253a3",
   "metadata": {},
   "outputs": [],
   "source": [
    "read.csv(\"./Mein_DataFrame\")\n",
    "read.csv(\"./Mein_DataFrame\")[-1]"
   ]
  },
  {
   "cell_type": "code",
   "execution_count": null,
   "id": "6ae97345",
   "metadata": {},
   "outputs": [],
   "source": [
    "write.csv(df,\"./Mein_DataFrame\",row.names=FALSE)\n",
    "read.csv(\"./Mein_DataFrame\")"
   ]
  },
  {
   "cell_type": "markdown",
   "id": "31c09cfd",
   "metadata": {},
   "source": [
    "## Übung 1\n",
    "mtcars ist ein Standard-Datensatz in R der Daten zu 32 Automarken in 11 Variablen enthält\n",
    "\n",
    "##### Auszug aus der Hilfe zu mtcars:\n",
    "\n",
    "A data frame with 32 observations on 11 (numeric) variables.\n",
    "* [, 1] \tmpg \tMiles/(US) gallon\n",
    "* [, 2] \tcyl \tNumber of cylinders\n",
    "* [, 3] \tdisp \tDisplacement (cu.in.)\n",
    "* [, 4] \thp \tGross horsepower\n",
    "* [, 5] \tdrat \tRear axle ratio\n",
    "* [, 6] \twt \tWeight (1000 lbs)\n",
    "* [, 7] \tqsec \t1/4 mile time\n",
    "* [, 8] \tvs \tEngine (0 = V-shaped, 1 = straight)\n",
    "* [, 9] \tam \tTransmission (0 = automatic, 1 = manual)\n",
    "* [,10] \tgear \tNumber of forward gears\n",
    "* [,11] \tcarb \tNumber of carburetors \n",
    "\n",
    "\n",
    "Beantworten Sie folgende Fragen zu dem Datensatz:\n",
    "1. Wie viele PS (=Gross HorsePower) hat das Auto \"Honda Civic\"?\n",
    "2. Wie viele Autos im Datensatz haben 8 Zylinder?\n",
    "3. Was passiert, wenn sie die Funktion summary() am Datensatz anwenden?\n",
    "3. Welches Auto ist das Schwerste? Welches das leichteste?\n",
    "4. Was ist die durchschnittliche 1/4 Meilen Zeit?"
   ]
  },
  {
   "cell_type": "code",
   "execution_count": null,
   "id": "0c759c93",
   "metadata": {},
   "outputs": [],
   "source": [
    "?mtcars"
   ]
  },
  {
   "cell_type": "code",
   "execution_count": null,
   "id": "c3bba550",
   "metadata": {},
   "outputs": [],
   "source": [
    "data(mtcars)\n",
    "mtcars"
   ]
  }
 ],
 "metadata": {
  "kernelspec": {
   "display_name": "R",
   "language": "R",
   "name": "ir"
  },
  "language_info": {
   "codemirror_mode": "r",
   "file_extension": ".r",
   "mimetype": "text/x-r-source",
   "name": "R",
   "pygments_lexer": "r",
   "version": "3.6.1"
  }
 },
 "nbformat": 4,
 "nbformat_minor": 5
}
